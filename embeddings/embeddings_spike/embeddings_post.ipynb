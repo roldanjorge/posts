{
 "cells": [
  {
   "cell_type": "code",
   "id": "initial_id",
   "metadata": {
    "collapsed": true,
    "ExecuteTime": {
     "end_time": "2024-10-18T01:14:20.398982Z",
     "start_time": "2024-10-18T01:14:20.392545Z"
    }
   },
   "source": [
    "from embeddings_utils import cosine_similarity, get_embedding\n",
    "from dotenv import load_dotenv, find_dotenv\n",
    "load_dotenv(find_dotenv())"
   ],
   "outputs": [
    {
     "data": {
      "text/plain": [
       "True"
      ]
     },
     "execution_count": 18,
     "metadata": {},
     "output_type": "execute_result"
    }
   ],
   "execution_count": 18
  },
  {
   "metadata": {
    "ExecuteTime": {
     "end_time": "2024-10-18T01:14:21.840492Z",
     "start_time": "2024-10-18T01:14:20.772821Z"
    }
   },
   "cell_type": "code",
   "source": "embed1 = get_embedding(\"Hi\", model=\"text-embedding-3-small\")",
   "id": "b2463bd2dd78d311",
   "outputs": [],
   "execution_count": 19
  },
  {
   "metadata": {
    "ExecuteTime": {
     "end_time": "2024-10-18T01:14:23.667608Z",
     "start_time": "2024-10-18T01:14:23.485188Z"
    }
   },
   "cell_type": "code",
   "source": "embed2 = get_embedding(\"bye\", model=\"text-embedding-3-small\")",
   "id": "18ca278214df8e61",
   "outputs": [],
   "execution_count": 20
  },
  {
   "metadata": {
    "ExecuteTime": {
     "end_time": "2024-10-18T01:14:24.452052Z",
     "start_time": "2024-10-18T01:14:24.366873Z"
    }
   },
   "cell_type": "code",
   "source": [
    "similarity = cosine_similarity(embed1, embed2)\n",
    "print(similarity[0])"
   ],
   "id": "b13c25858982bbf3",
   "outputs": [
    {
     "ename": "IndexError",
     "evalue": "invalid index to scalar variable.",
     "output_type": "error",
     "traceback": [
      "\u001B[0;31m---------------------------------------------------------------------------\u001B[0m",
      "\u001B[0;31mIndexError\u001B[0m                                Traceback (most recent call last)",
      "Cell \u001B[0;32mIn[21], line 2\u001B[0m\n\u001B[1;32m      1\u001B[0m similarity \u001B[38;5;241m=\u001B[39m cosine_similarity(embed1, embed2)\n\u001B[0;32m----> 2\u001B[0m \u001B[38;5;28mprint\u001B[39m(\u001B[43msimilarity\u001B[49m\u001B[43m[\u001B[49m\u001B[38;5;241;43m0\u001B[39;49m\u001B[43m]\u001B[49m)\n",
      "\u001B[0;31mIndexError\u001B[0m: invalid index to scalar variable."
     ]
    }
   ],
   "execution_count": 21
  },
  {
   "metadata": {},
   "cell_type": "code",
   "outputs": [],
   "execution_count": null,
   "source": "",
   "id": "390bd114f3e2d800"
  }
 ],
 "metadata": {
  "kernelspec": {
   "display_name": "Python 3",
   "language": "python",
   "name": "python3"
  },
  "language_info": {
   "codemirror_mode": {
    "name": "ipython",
    "version": 2
   },
   "file_extension": ".py",
   "mimetype": "text/x-python",
   "name": "python",
   "nbconvert_exporter": "python",
   "pygments_lexer": "ipython2",
   "version": "2.7.6"
  }
 },
 "nbformat": 4,
 "nbformat_minor": 5
}
