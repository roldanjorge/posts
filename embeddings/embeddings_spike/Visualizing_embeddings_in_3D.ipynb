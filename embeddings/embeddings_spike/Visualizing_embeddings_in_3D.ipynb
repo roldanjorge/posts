{
 "cells": [
  {
   "cell_type": "markdown",
   "id": "983ef639-fbf4-4912-b593-9cf08aeb11cd",
   "metadata": {},
   "source": [
    "# Visualizing embeddings in 3D"
   ]
  },
  {
   "attachments": {},
   "cell_type": "markdown",
   "id": "9c9ea9a8-675d-4e3a-a8f7-6f4563df84ad",
   "metadata": {},
   "source": [
    "The example uses [PCA](https://scikit-learn.org/stable/modules/generated/sklearn.decomposition.PCA.html) to reduce the dimensionality fo the embeddings from 1536 to 3. Then we can visualize the data points in a 3D plot. The small dataset `dbpedia_samples.jsonl` is curated by randomly sampling 200 samples from [DBpedia validation dataset](https://www.kaggle.com/danofer/dbpedia-classes?select=DBPEDIA_val.csv)."
   ]
  },
  {
   "cell_type": "markdown",
   "id": "8df5f2c3-ddbb-4cc4-9205-4c0af1670562",
   "metadata": {},
   "source": [
    "### 1. Load the dataset and query embeddings"
   ]
  },
  {
   "cell_type": "code",
   "id": "133dfc2a-9dbd-4a5a-96fa-477272f7af5a",
   "metadata": {
    "ExecuteTime": {
     "end_time": "2024-10-06T22:59:42.023050Z",
     "start_time": "2024-10-06T22:59:42.010581Z"
    }
   },
   "source": [
    "import pandas as pd\n",
    "samples = pd.read_json(\"data/dbpedia_samples.jsonl\", lines=True)\n",
    "categories = sorted(samples[\"category\"].unique())\n",
    "print(\"Categories of DBpedia samples:\", samples[\"category\"].value_counts())\n",
    "samples.head()\n"
   ],
   "outputs": [
    {
     "name": "stdout",
     "output_type": "stream",
     "text": [
      "Categories of DBpedia samples: category\n",
      "Artist                    21\n",
      "Film                      19\n",
      "Plant                     19\n",
      "OfficeHolder              18\n",
      "Company                   17\n",
      "NaturalPlace              16\n",
      "Athlete                   16\n",
      "Village                   12\n",
      "WrittenWork               11\n",
      "Building                  11\n",
      "Album                     11\n",
      "Animal                    11\n",
      "EducationalInstitution    10\n",
      "MeanOfTransportation       8\n",
      "Name: count, dtype: int64\n"
     ]
    },
    {
     "data": {
      "text/plain": [
       "                                                text      category\n",
       "0   Morada Limited is a textile company based in ...       Company\n",
       "1   The Armenian Mirror-Spectator is a newspaper ...   WrittenWork\n",
       "2   Mt. Kinka (金華山 Kinka-zan) also known as Kinka...  NaturalPlace\n",
       "3   Planning the Play of a Bridge Hand is a book ...   WrittenWork\n",
       "4   Wang Yuanping (born 8 December 1976) is a ret...       Athlete"
      ],
      "text/html": [
       "<div>\n",
       "<style scoped>\n",
       "    .dataframe tbody tr th:only-of-type {\n",
       "        vertical-align: middle;\n",
       "    }\n",
       "\n",
       "    .dataframe tbody tr th {\n",
       "        vertical-align: top;\n",
       "    }\n",
       "\n",
       "    .dataframe thead th {\n",
       "        text-align: right;\n",
       "    }\n",
       "</style>\n",
       "<table border=\"1\" class=\"dataframe\">\n",
       "  <thead>\n",
       "    <tr style=\"text-align: right;\">\n",
       "      <th></th>\n",
       "      <th>text</th>\n",
       "      <th>category</th>\n",
       "    </tr>\n",
       "  </thead>\n",
       "  <tbody>\n",
       "    <tr>\n",
       "      <th>0</th>\n",
       "      <td>Morada Limited is a textile company based in ...</td>\n",
       "      <td>Company</td>\n",
       "    </tr>\n",
       "    <tr>\n",
       "      <th>1</th>\n",
       "      <td>The Armenian Mirror-Spectator is a newspaper ...</td>\n",
       "      <td>WrittenWork</td>\n",
       "    </tr>\n",
       "    <tr>\n",
       "      <th>2</th>\n",
       "      <td>Mt. Kinka (金華山 Kinka-zan) also known as Kinka...</td>\n",
       "      <td>NaturalPlace</td>\n",
       "    </tr>\n",
       "    <tr>\n",
       "      <th>3</th>\n",
       "      <td>Planning the Play of a Bridge Hand is a book ...</td>\n",
       "      <td>WrittenWork</td>\n",
       "    </tr>\n",
       "    <tr>\n",
       "      <th>4</th>\n",
       "      <td>Wang Yuanping (born 8 December 1976) is a ret...</td>\n",
       "      <td>Athlete</td>\n",
       "    </tr>\n",
       "  </tbody>\n",
       "</table>\n",
       "</div>"
      ]
     },
     "execution_count": 5,
     "metadata": {},
     "output_type": "execute_result"
    }
   ],
   "execution_count": 5
  },
  {
   "cell_type": "code",
   "id": "19874e3e-a216-48cc-a27b-acb73854d832",
   "metadata": {
    "ExecuteTime": {
     "end_time": "2024-10-06T22:59:43.196299Z",
     "start_time": "2024-10-06T22:59:43.150936Z"
    }
   },
   "source": [
    "from utils.embeddings_utils import get_embeddings\n",
    "# NOTE: The following code will send a query of batch size 200 to /embeddings\n",
    "matrix = get_embeddings(samples[\"text\"].to_list(), model=\"text-embedding-3-small\")\n"
   ],
   "outputs": [
    {
     "ename": "ModuleNotFoundError",
     "evalue": "No module named 'plotly'",
     "output_type": "error",
     "traceback": [
      "\u001B[0;31m---------------------------------------------------------------------------\u001B[0m",
      "\u001B[0;31mModuleNotFoundError\u001B[0m                       Traceback (most recent call last)",
      "Cell \u001B[0;32mIn[6], line 1\u001B[0m\n\u001B[0;32m----> 1\u001B[0m \u001B[38;5;28;01mfrom\u001B[39;00m \u001B[38;5;21;01mutils\u001B[39;00m\u001B[38;5;21;01m.\u001B[39;00m\u001B[38;5;21;01membeddings_utils\u001B[39;00m \u001B[38;5;28;01mimport\u001B[39;00m get_embeddings\n\u001B[1;32m      2\u001B[0m \u001B[38;5;66;03m# NOTE: The following code will send a query of batch size 200 to /embeddings\u001B[39;00m\n\u001B[1;32m      3\u001B[0m matrix \u001B[38;5;241m=\u001B[39m get_embeddings(samples[\u001B[38;5;124m\"\u001B[39m\u001B[38;5;124mtext\u001B[39m\u001B[38;5;124m\"\u001B[39m]\u001B[38;5;241m.\u001B[39mto_list(), model\u001B[38;5;241m=\u001B[39m\u001B[38;5;124m\"\u001B[39m\u001B[38;5;124mtext-embedding-3-small\u001B[39m\u001B[38;5;124m\"\u001B[39m)\n",
      "File \u001B[0;32m~/Documents/openai_cookbook_dir/openai-cookbook/examples/utils/embeddings_utils.py:5\u001B[0m\n\u001B[1;32m      2\u001B[0m \u001B[38;5;28;01mfrom\u001B[39;00m \u001B[38;5;21;01mtyping\u001B[39;00m \u001B[38;5;28;01mimport\u001B[39;00m List, Optional\n\u001B[1;32m      4\u001B[0m \u001B[38;5;28;01mimport\u001B[39;00m \u001B[38;5;21;01mmatplotlib\u001B[39;00m\u001B[38;5;21;01m.\u001B[39;00m\u001B[38;5;21;01mpyplot\u001B[39;00m \u001B[38;5;28;01mas\u001B[39;00m \u001B[38;5;21;01mplt\u001B[39;00m\n\u001B[0;32m----> 5\u001B[0m \u001B[38;5;28;01mimport\u001B[39;00m \u001B[38;5;21;01mplotly\u001B[39;00m\u001B[38;5;21;01m.\u001B[39;00m\u001B[38;5;21;01mexpress\u001B[39;00m \u001B[38;5;28;01mas\u001B[39;00m \u001B[38;5;21;01mpx\u001B[39;00m\n\u001B[1;32m      6\u001B[0m \u001B[38;5;28;01mfrom\u001B[39;00m \u001B[38;5;21;01mscipy\u001B[39;00m \u001B[38;5;28;01mimport\u001B[39;00m spatial\n\u001B[1;32m      7\u001B[0m \u001B[38;5;28;01mfrom\u001B[39;00m \u001B[38;5;21;01msklearn\u001B[39;00m\u001B[38;5;21;01m.\u001B[39;00m\u001B[38;5;21;01mdecomposition\u001B[39;00m \u001B[38;5;28;01mimport\u001B[39;00m PCA\n",
      "\u001B[0;31mModuleNotFoundError\u001B[0m: No module named 'plotly'"
     ]
    }
   ],
   "execution_count": 6
  },
  {
   "cell_type": "markdown",
   "id": "d410c268-d8a7-4979-887c-45b1d382dda9",
   "metadata": {},
   "source": [
    "### 2. Reduce the embedding dimensionality"
   ]
  },
  {
   "cell_type": "code",
   "id": "f5410068-f3da-490c-8576-48e84a8728de",
   "metadata": {
    "ExecuteTime": {
     "end_time": "2024-10-06T22:59:44.843111Z",
     "start_time": "2024-10-06T22:59:44.828337Z"
    }
   },
   "source": [
    "from sklearn.decomposition import PCA\n",
    "pca = PCA(n_components=3)\n",
    "vis_dims = pca.fit_transform(matrix)\n",
    "samples[\"embed_vis\"] = vis_dims.tolist()\n"
   ],
   "outputs": [
    {
     "ename": "NameError",
     "evalue": "name 'matrix' is not defined",
     "output_type": "error",
     "traceback": [
      "\u001B[0;31m---------------------------------------------------------------------------\u001B[0m",
      "\u001B[0;31mNameError\u001B[0m                                 Traceback (most recent call last)",
      "Cell \u001B[0;32mIn[7], line 3\u001B[0m\n\u001B[1;32m      1\u001B[0m \u001B[38;5;28;01mfrom\u001B[39;00m \u001B[38;5;21;01msklearn\u001B[39;00m\u001B[38;5;21;01m.\u001B[39;00m\u001B[38;5;21;01mdecomposition\u001B[39;00m \u001B[38;5;28;01mimport\u001B[39;00m PCA\n\u001B[1;32m      2\u001B[0m pca \u001B[38;5;241m=\u001B[39m PCA(n_components\u001B[38;5;241m=\u001B[39m\u001B[38;5;241m3\u001B[39m)\n\u001B[0;32m----> 3\u001B[0m vis_dims \u001B[38;5;241m=\u001B[39m pca\u001B[38;5;241m.\u001B[39mfit_transform(\u001B[43mmatrix\u001B[49m)\n\u001B[1;32m      4\u001B[0m samples[\u001B[38;5;124m\"\u001B[39m\u001B[38;5;124membed_vis\u001B[39m\u001B[38;5;124m\"\u001B[39m] \u001B[38;5;241m=\u001B[39m vis_dims\u001B[38;5;241m.\u001B[39mtolist()\n",
      "\u001B[0;31mNameError\u001B[0m: name 'matrix' is not defined"
     ]
    }
   ],
   "execution_count": 7
  },
  {
   "cell_type": "markdown",
   "id": "b6565f57-59c6-4d36-a094-3cbbd9ddeb4c",
   "metadata": {},
   "source": [
    "### 3. Plot the embeddings of lower dimensionality"
   ]
  },
  {
   "cell_type": "code",
   "id": "b17caad3-f0de-4115-83eb-55434a132acc",
   "metadata": {
    "ExecuteTime": {
     "end_time": "2024-10-06T22:59:45.986288Z",
     "start_time": "2024-10-06T22:59:45.871423Z"
    }
   },
   "source": [
    "%matplotlib widget\n",
    "import matplotlib.pyplot as plt\n",
    "import numpy as np\n",
    "\n",
    "fig = plt.figure(figsize=(10, 5))\n",
    "ax = fig.add_subplot(projection='3d')\n",
    "cmap = plt.get_cmap(\"tab20\")\n",
    "\n",
    "# Plot each sample category individually such that we can set label name.\n",
    "for i, cat in enumerate(categories):\n",
    "    sub_matrix = np.array(samples[samples[\"category\"] == cat][\"embed_vis\"].to_list())\n",
    "    x=sub_matrix[:, 0]\n",
    "    y=sub_matrix[:, 1]\n",
    "    z=sub_matrix[:, 2]\n",
    "    colors = [cmap(i/len(categories))] * len(sub_matrix)\n",
    "    ax.scatter(x, y, zs=z, zdir='z', c=colors, label=cat)\n",
    "\n",
    "ax.set_xlabel('x')\n",
    "ax.set_ylabel('y')\n",
    "ax.set_zlabel('z')\n",
    "ax.legend(bbox_to_anchor=(1.1, 1))\n"
   ],
   "outputs": [
    {
     "ename": "RuntimeError",
     "evalue": "'widget is not a recognised GUI loop or backend name",
     "output_type": "error",
     "traceback": [
      "\u001B[0;31m---------------------------------------------------------------------------\u001B[0m",
      "\u001B[0;31mRuntimeError\u001B[0m                              Traceback (most recent call last)",
      "File \u001B[0;32m~/miniconda3/envs/genai_labs_env/lib/python3.11/site-packages/matplotlib/backends/registry.py:413\u001B[0m, in \u001B[0;36mBackendRegistry.resolve_gui_or_backend\u001B[0;34m(self, gui_or_backend)\u001B[0m\n\u001B[1;32m    412\u001B[0m \u001B[38;5;28;01mtry\u001B[39;00m:\n\u001B[0;32m--> 413\u001B[0m     \u001B[38;5;28;01mreturn\u001B[39;00m \u001B[38;5;28;43mself\u001B[39;49m\u001B[38;5;241;43m.\u001B[39;49m\u001B[43mresolve_backend\u001B[49m\u001B[43m(\u001B[49m\u001B[43mgui_or_backend\u001B[49m\u001B[43m)\u001B[49m\n\u001B[1;32m    414\u001B[0m \u001B[38;5;28;01mexcept\u001B[39;00m \u001B[38;5;167;01mException\u001B[39;00m:  \u001B[38;5;66;03m# KeyError ?\u001B[39;00m\n",
      "File \u001B[0;32m~/miniconda3/envs/genai_labs_env/lib/python3.11/site-packages/matplotlib/backends/registry.py:375\u001B[0m, in \u001B[0;36mBackendRegistry.resolve_backend\u001B[0;34m(self, backend)\u001B[0m\n\u001B[1;32m    374\u001B[0m \u001B[38;5;28;01mif\u001B[39;00m gui \u001B[38;5;129;01mis\u001B[39;00m \u001B[38;5;28;01mNone\u001B[39;00m:\n\u001B[0;32m--> 375\u001B[0m     \u001B[38;5;28;01mraise\u001B[39;00m \u001B[38;5;167;01mRuntimeError\u001B[39;00m(\u001B[38;5;124mf\u001B[39m\u001B[38;5;124m\"\u001B[39m\u001B[38;5;124m'\u001B[39m\u001B[38;5;132;01m{\u001B[39;00mbackend\u001B[38;5;132;01m}\u001B[39;00m\u001B[38;5;124m'\u001B[39m\u001B[38;5;124m is not a recognised backend name\u001B[39m\u001B[38;5;124m\"\u001B[39m)\n\u001B[1;32m    377\u001B[0m \u001B[38;5;28;01mreturn\u001B[39;00m backend, gui \u001B[38;5;28;01mif\u001B[39;00m gui \u001B[38;5;241m!=\u001B[39m \u001B[38;5;124m\"\u001B[39m\u001B[38;5;124mheadless\u001B[39m\u001B[38;5;124m\"\u001B[39m \u001B[38;5;28;01melse\u001B[39;00m \u001B[38;5;28;01mNone\u001B[39;00m\n",
      "\u001B[0;31mRuntimeError\u001B[0m: 'widget' is not a recognised backend name",
      "\nDuring handling of the above exception, another exception occurred:\n",
      "\u001B[0;31mRuntimeError\u001B[0m                              Traceback (most recent call last)",
      "Cell \u001B[0;32mIn[8], line 1\u001B[0m\n\u001B[0;32m----> 1\u001B[0m \u001B[43mget_ipython\u001B[49m\u001B[43m(\u001B[49m\u001B[43m)\u001B[49m\u001B[38;5;241;43m.\u001B[39;49m\u001B[43mrun_line_magic\u001B[49m\u001B[43m(\u001B[49m\u001B[38;5;124;43m'\u001B[39;49m\u001B[38;5;124;43mmatplotlib\u001B[39;49m\u001B[38;5;124;43m'\u001B[39;49m\u001B[43m,\u001B[49m\u001B[43m \u001B[49m\u001B[38;5;124;43m'\u001B[39;49m\u001B[38;5;124;43mwidget\u001B[39;49m\u001B[38;5;124;43m'\u001B[39;49m\u001B[43m)\u001B[49m\n\u001B[1;32m      2\u001B[0m \u001B[38;5;28;01mimport\u001B[39;00m \u001B[38;5;21;01mmatplotlib\u001B[39;00m\u001B[38;5;21;01m.\u001B[39;00m\u001B[38;5;21;01mpyplot\u001B[39;00m \u001B[38;5;28;01mas\u001B[39;00m \u001B[38;5;21;01mplt\u001B[39;00m\n\u001B[1;32m      3\u001B[0m \u001B[38;5;28;01mimport\u001B[39;00m \u001B[38;5;21;01mnumpy\u001B[39;00m \u001B[38;5;28;01mas\u001B[39;00m \u001B[38;5;21;01mnp\u001B[39;00m\n",
      "File \u001B[0;32m~/miniconda3/envs/genai_labs_env/lib/python3.11/site-packages/IPython/core/interactiveshell.py:2480\u001B[0m, in \u001B[0;36mInteractiveShell.run_line_magic\u001B[0;34m(self, magic_name, line, _stack_depth)\u001B[0m\n\u001B[1;32m   2478\u001B[0m     kwargs[\u001B[38;5;124m'\u001B[39m\u001B[38;5;124mlocal_ns\u001B[39m\u001B[38;5;124m'\u001B[39m] \u001B[38;5;241m=\u001B[39m \u001B[38;5;28mself\u001B[39m\u001B[38;5;241m.\u001B[39mget_local_scope(stack_depth)\n\u001B[1;32m   2479\u001B[0m \u001B[38;5;28;01mwith\u001B[39;00m \u001B[38;5;28mself\u001B[39m\u001B[38;5;241m.\u001B[39mbuiltin_trap:\n\u001B[0;32m-> 2480\u001B[0m     result \u001B[38;5;241m=\u001B[39m \u001B[43mfn\u001B[49m\u001B[43m(\u001B[49m\u001B[38;5;241;43m*\u001B[39;49m\u001B[43margs\u001B[49m\u001B[43m,\u001B[49m\u001B[43m \u001B[49m\u001B[38;5;241;43m*\u001B[39;49m\u001B[38;5;241;43m*\u001B[39;49m\u001B[43mkwargs\u001B[49m\u001B[43m)\u001B[49m\n\u001B[1;32m   2482\u001B[0m \u001B[38;5;66;03m# The code below prevents the output from being displayed\u001B[39;00m\n\u001B[1;32m   2483\u001B[0m \u001B[38;5;66;03m# when using magics with decorator @output_can_be_silenced\u001B[39;00m\n\u001B[1;32m   2484\u001B[0m \u001B[38;5;66;03m# when the last Python token in the expression is a ';'.\u001B[39;00m\n\u001B[1;32m   2485\u001B[0m \u001B[38;5;28;01mif\u001B[39;00m \u001B[38;5;28mgetattr\u001B[39m(fn, magic\u001B[38;5;241m.\u001B[39mMAGIC_OUTPUT_CAN_BE_SILENCED, \u001B[38;5;28;01mFalse\u001B[39;00m):\n",
      "File \u001B[0;32m~/miniconda3/envs/genai_labs_env/lib/python3.11/site-packages/IPython/core/magics/pylab.py:103\u001B[0m, in \u001B[0;36mPylabMagics.matplotlib\u001B[0;34m(self, line)\u001B[0m\n\u001B[1;32m     98\u001B[0m     \u001B[38;5;28mprint\u001B[39m(\n\u001B[1;32m     99\u001B[0m         \u001B[38;5;124m\"\u001B[39m\u001B[38;5;124mAvailable matplotlib backends: \u001B[39m\u001B[38;5;132;01m%s\u001B[39;00m\u001B[38;5;124m\"\u001B[39m\n\u001B[1;32m    100\u001B[0m         \u001B[38;5;241m%\u001B[39m _list_matplotlib_backends_and_gui_loops()\n\u001B[1;32m    101\u001B[0m     )\n\u001B[1;32m    102\u001B[0m \u001B[38;5;28;01melse\u001B[39;00m:\n\u001B[0;32m--> 103\u001B[0m     gui, backend \u001B[38;5;241m=\u001B[39m \u001B[38;5;28;43mself\u001B[39;49m\u001B[38;5;241;43m.\u001B[39;49m\u001B[43mshell\u001B[49m\u001B[38;5;241;43m.\u001B[39;49m\u001B[43menable_matplotlib\u001B[49m\u001B[43m(\u001B[49m\u001B[43margs\u001B[49m\u001B[38;5;241;43m.\u001B[39;49m\u001B[43mgui\u001B[49m\u001B[38;5;241;43m.\u001B[39;49m\u001B[43mlower\u001B[49m\u001B[43m(\u001B[49m\u001B[43m)\u001B[49m\u001B[43m \u001B[49m\u001B[38;5;28;43;01mif\u001B[39;49;00m\u001B[43m \u001B[49m\u001B[38;5;28;43misinstance\u001B[39;49m\u001B[43m(\u001B[49m\u001B[43margs\u001B[49m\u001B[38;5;241;43m.\u001B[39;49m\u001B[43mgui\u001B[49m\u001B[43m,\u001B[49m\u001B[43m \u001B[49m\u001B[38;5;28;43mstr\u001B[39;49m\u001B[43m)\u001B[49m\u001B[43m \u001B[49m\u001B[38;5;28;43;01melse\u001B[39;49;00m\u001B[43m \u001B[49m\u001B[43margs\u001B[49m\u001B[38;5;241;43m.\u001B[39;49m\u001B[43mgui\u001B[49m\u001B[43m)\u001B[49m\n\u001B[1;32m    104\u001B[0m     \u001B[38;5;28mself\u001B[39m\u001B[38;5;241m.\u001B[39m_show_matplotlib_backend(args\u001B[38;5;241m.\u001B[39mgui, backend)\n",
      "File \u001B[0;32m~/miniconda3/envs/genai_labs_env/lib/python3.11/site-packages/IPython/core/interactiveshell.py:3665\u001B[0m, in \u001B[0;36mInteractiveShell.enable_matplotlib\u001B[0;34m(self, gui)\u001B[0m\n\u001B[1;32m   3662\u001B[0m     \u001B[38;5;28;01mimport\u001B[39;00m \u001B[38;5;21;01mmatplotlib_inline\u001B[39;00m\u001B[38;5;21;01m.\u001B[39;00m\u001B[38;5;21;01mbackend_inline\u001B[39;00m\n\u001B[1;32m   3664\u001B[0m \u001B[38;5;28;01mfrom\u001B[39;00m \u001B[38;5;21;01mIPython\u001B[39;00m\u001B[38;5;21;01m.\u001B[39;00m\u001B[38;5;21;01mcore\u001B[39;00m \u001B[38;5;28;01mimport\u001B[39;00m pylabtools \u001B[38;5;28;01mas\u001B[39;00m pt\n\u001B[0;32m-> 3665\u001B[0m gui, backend \u001B[38;5;241m=\u001B[39m \u001B[43mpt\u001B[49m\u001B[38;5;241;43m.\u001B[39;49m\u001B[43mfind_gui_and_backend\u001B[49m\u001B[43m(\u001B[49m\u001B[43mgui\u001B[49m\u001B[43m,\u001B[49m\u001B[43m \u001B[49m\u001B[38;5;28;43mself\u001B[39;49m\u001B[38;5;241;43m.\u001B[39;49m\u001B[43mpylab_gui_select\u001B[49m\u001B[43m)\u001B[49m\n\u001B[1;32m   3667\u001B[0m \u001B[38;5;28;01mif\u001B[39;00m gui \u001B[38;5;241m!=\u001B[39m \u001B[38;5;28;01mNone\u001B[39;00m:\n\u001B[1;32m   3668\u001B[0m     \u001B[38;5;66;03m# If we have our first gui selection, store it\u001B[39;00m\n\u001B[1;32m   3669\u001B[0m     \u001B[38;5;28;01mif\u001B[39;00m \u001B[38;5;28mself\u001B[39m\u001B[38;5;241m.\u001B[39mpylab_gui_select \u001B[38;5;129;01mis\u001B[39;00m \u001B[38;5;28;01mNone\u001B[39;00m:\n",
      "File \u001B[0;32m~/miniconda3/envs/genai_labs_env/lib/python3.11/site-packages/IPython/core/pylabtools.py:349\u001B[0m, in \u001B[0;36mfind_gui_and_backend\u001B[0;34m(gui, gui_select)\u001B[0m\n\u001B[1;32m    347\u001B[0m \u001B[38;5;28;01melse\u001B[39;00m:\n\u001B[1;32m    348\u001B[0m     gui \u001B[38;5;241m=\u001B[39m _convert_gui_to_matplotlib(gui)\n\u001B[0;32m--> 349\u001B[0m     backend, gui \u001B[38;5;241m=\u001B[39m \u001B[43mbackend_registry\u001B[49m\u001B[38;5;241;43m.\u001B[39;49m\u001B[43mresolve_gui_or_backend\u001B[49m\u001B[43m(\u001B[49m\u001B[43mgui\u001B[49m\u001B[43m)\u001B[49m\n\u001B[1;32m    351\u001B[0m gui \u001B[38;5;241m=\u001B[39m _convert_gui_from_matplotlib(gui)\n\u001B[1;32m    352\u001B[0m \u001B[38;5;28;01mreturn\u001B[39;00m gui, backend\n",
      "File \u001B[0;32m~/miniconda3/envs/genai_labs_env/lib/python3.11/site-packages/matplotlib/backends/registry.py:415\u001B[0m, in \u001B[0;36mBackendRegistry.resolve_gui_or_backend\u001B[0;34m(self, gui_or_backend)\u001B[0m\n\u001B[1;32m    413\u001B[0m     \u001B[38;5;28;01mreturn\u001B[39;00m \u001B[38;5;28mself\u001B[39m\u001B[38;5;241m.\u001B[39mresolve_backend(gui_or_backend)\n\u001B[1;32m    414\u001B[0m \u001B[38;5;28;01mexcept\u001B[39;00m \u001B[38;5;167;01mException\u001B[39;00m:  \u001B[38;5;66;03m# KeyError ?\u001B[39;00m\n\u001B[0;32m--> 415\u001B[0m     \u001B[38;5;28;01mraise\u001B[39;00m \u001B[38;5;167;01mRuntimeError\u001B[39;00m(\n\u001B[1;32m    416\u001B[0m         \u001B[38;5;124mf\u001B[39m\u001B[38;5;124m\"\u001B[39m\u001B[38;5;124m'\u001B[39m\u001B[38;5;132;01m{\u001B[39;00mgui_or_backend\u001B[38;5;132;01m}\u001B[39;00m\u001B[38;5;124m is not a recognised GUI loop or backend name\u001B[39m\u001B[38;5;124m\"\u001B[39m)\n",
      "\u001B[0;31mRuntimeError\u001B[0m: 'widget is not a recognised GUI loop or backend name"
     ]
    }
   ],
   "execution_count": 8
  },
  {
   "metadata": {},
   "cell_type": "code",
   "outputs": [],
   "execution_count": null,
   "source": "",
   "id": "38446ea95c64a686"
  }
 ],
 "metadata": {
  "kernelspec": {
   "display_name": "Python 3.9.9 ('openai')",
   "language": "python",
   "name": "python3"
  },
  "language_info": {
   "codemirror_mode": {
    "name": "ipython",
    "version": 3
   },
   "file_extension": ".py",
   "mimetype": "text/x-python",
   "name": "python",
   "nbconvert_exporter": "python",
   "pygments_lexer": "ipython3",
   "version": "3.9.9"
  },
  "vscode": {
   "interpreter": {
    "hash": "365536dcbde60510dc9073d6b991cd35db2d9bac356a11f5b64279a5e6708b97"
   }
  }
 },
 "nbformat": 4,
 "nbformat_minor": 5
}
