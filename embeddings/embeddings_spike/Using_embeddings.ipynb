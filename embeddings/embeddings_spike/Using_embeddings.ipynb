{
 "cells": [
  {
   "attachments": {},
   "cell_type": "markdown",
   "metadata": {},
   "source": [
    "## Using embeddings\n",
    "\n",
    "This notebook contains some helpful snippets you can use to embed text with the `text-embedding-3-small` model via the OpenAI API."
   ]
  },
  {
   "metadata": {
    "ExecuteTime": {
     "end_time": "2024-10-18T01:04:17.844570Z",
     "start_time": "2024-10-18T01:04:17.822440Z"
    }
   },
   "cell_type": "code",
   "source": [
    "from dotenv import load_dotenv, find_dotenv\n",
    "load_dotenv(find_dotenv())"
   ],
   "outputs": [
    {
     "data": {
      "text/plain": [
       "True"
      ]
     },
     "execution_count": 1,
     "metadata": {},
     "output_type": "execute_result"
    }
   ],
   "execution_count": 1
  },
  {
   "cell_type": "code",
   "metadata": {
    "ExecuteTime": {
     "end_time": "2024-10-18T01:04:19.463377Z",
     "start_time": "2024-10-18T01:04:17.847096Z"
    }
   },
   "source": [
    "from openai import OpenAI\n",
    "client = OpenAI()\n",
    "\n",
    "embedding = client.embeddings.create(\n",
    "    input=\"Your text goes here\", model=\"text-embedding-3-small\"\n",
    ").data[0].embedding\n",
    "len(embedding)\n"
   ],
   "outputs": [
    {
     "data": {
      "text/plain": [
       "1536"
      ]
     },
     "execution_count": 2,
     "metadata": {},
     "output_type": "execute_result"
    }
   ],
   "execution_count": 2
  },
  {
   "metadata": {
    "ExecuteTime": {
     "end_time": "2024-10-18T01:04:19.472604Z",
     "start_time": "2024-10-18T01:04:19.465668Z"
    }
   },
   "cell_type": "code",
   "source": [
    "from dotenv import load_dotenv, find_dotenv\n",
    "load_dotenv(find_dotenv())"
   ],
   "outputs": [
    {
     "data": {
      "text/plain": [
       "True"
      ]
     },
     "execution_count": 3,
     "metadata": {},
     "output_type": "execute_result"
    }
   ],
   "execution_count": 3
  },
  {
   "attachments": {},
   "cell_type": "markdown",
   "metadata": {},
   "source": [
    "It's recommended to use the 'tenacity' package or another exponential backoff implementation to better manage API rate limits, as hitting the API too much too fast can trigger rate limits. Using the following function ensures you get your embeddings as fast as possible."
   ]
  },
  {
   "cell_type": "code",
   "metadata": {
    "ExecuteTime": {
     "end_time": "2024-10-12T14:18:48.588166Z",
     "start_time": "2024-10-12T14:18:43.042081Z"
    }
   },
   "source": [
    "# Negative example (slow and rate-limited)\n",
    "from openai import OpenAI\n",
    "client = OpenAI()\n",
    "\n",
    "num_embeddings = 10000 # Some large number\n",
    "for i in range(num_embeddings):\n",
    "    embedding = client.embeddings.create(\n",
    "        input=\"Your text goes here\", model=\"text-embedding-3-small\"\n",
    "    ).data[0].embedding\n",
    "    print(len(embedding))"
   ],
   "outputs": [
    {
     "name": "stdout",
     "output_type": "stream",
     "text": [
      "1536\n",
      "1536\n",
      "1536\n",
      "1536\n",
      "1536\n",
      "1536\n",
      "1536\n",
      "1536\n",
      "1536\n",
      "1536\n",
      "1536\n",
      "1536\n"
     ]
    },
    {
     "ename": "KeyboardInterrupt",
     "evalue": "",
     "output_type": "error",
     "traceback": [
      "\u001B[0;31m---------------------------------------------------------------------------\u001B[0m",
      "\u001B[0;31mKeyboardInterrupt\u001B[0m                         Traceback (most recent call last)",
      "Cell \u001B[0;32mIn[4], line 7\u001B[0m\n\u001B[1;32m      5\u001B[0m num_embeddings \u001B[38;5;241m=\u001B[39m \u001B[38;5;241m10000\u001B[39m \u001B[38;5;66;03m# Some large number\u001B[39;00m\n\u001B[1;32m      6\u001B[0m \u001B[38;5;28;01mfor\u001B[39;00m i \u001B[38;5;129;01min\u001B[39;00m \u001B[38;5;28mrange\u001B[39m(num_embeddings):\n\u001B[0;32m----> 7\u001B[0m     embedding \u001B[38;5;241m=\u001B[39m client\u001B[38;5;241m.\u001B[39membeddings\u001B[38;5;241m.\u001B[39mcreate(\n\u001B[1;32m      8\u001B[0m         \u001B[38;5;28minput\u001B[39m\u001B[38;5;241m=\u001B[39m\u001B[38;5;124m\"\u001B[39m\u001B[38;5;124mYour text goes here\u001B[39m\u001B[38;5;124m\"\u001B[39m, model\u001B[38;5;241m=\u001B[39m\u001B[38;5;124m\"\u001B[39m\u001B[38;5;124mtext-embedding-3-small\u001B[39m\u001B[38;5;124m\"\u001B[39m\n\u001B[1;32m      9\u001B[0m     )\u001B[38;5;241m.\u001B[39mdata[\u001B[38;5;241m0\u001B[39m]\u001B[38;5;241m.\u001B[39membedding\n\u001B[1;32m     10\u001B[0m     \u001B[38;5;28mprint\u001B[39m(\u001B[38;5;28mlen\u001B[39m(embedding))\n",
      "File \u001B[0;32m~/miniconda3/envs/embeddings_env/lib/python3.11/site-packages/openai/resources/embeddings.py:124\u001B[0m, in \u001B[0;36mEmbeddings.create\u001B[0;34m(self, input, model, dimensions, encoding_format, user, extra_headers, extra_query, extra_body, timeout)\u001B[0m\n\u001B[1;32m    118\u001B[0m         embedding\u001B[38;5;241m.\u001B[39membedding \u001B[38;5;241m=\u001B[39m np\u001B[38;5;241m.\u001B[39mfrombuffer(  \u001B[38;5;66;03m# type: ignore[no-untyped-call]\u001B[39;00m\n\u001B[1;32m    119\u001B[0m             base64\u001B[38;5;241m.\u001B[39mb64decode(data), dtype\u001B[38;5;241m=\u001B[39m\u001B[38;5;124m\"\u001B[39m\u001B[38;5;124mfloat32\u001B[39m\u001B[38;5;124m\"\u001B[39m\n\u001B[1;32m    120\u001B[0m         )\u001B[38;5;241m.\u001B[39mtolist()\n\u001B[1;32m    122\u001B[0m     \u001B[38;5;28;01mreturn\u001B[39;00m obj\n\u001B[0;32m--> 124\u001B[0m \u001B[38;5;28;01mreturn\u001B[39;00m \u001B[38;5;28mself\u001B[39m\u001B[38;5;241m.\u001B[39m_post(\n\u001B[1;32m    125\u001B[0m     \u001B[38;5;124m\"\u001B[39m\u001B[38;5;124m/embeddings\u001B[39m\u001B[38;5;124m\"\u001B[39m,\n\u001B[1;32m    126\u001B[0m     body\u001B[38;5;241m=\u001B[39mmaybe_transform(params, embedding_create_params\u001B[38;5;241m.\u001B[39mEmbeddingCreateParams),\n\u001B[1;32m    127\u001B[0m     options\u001B[38;5;241m=\u001B[39mmake_request_options(\n\u001B[1;32m    128\u001B[0m         extra_headers\u001B[38;5;241m=\u001B[39mextra_headers,\n\u001B[1;32m    129\u001B[0m         extra_query\u001B[38;5;241m=\u001B[39mextra_query,\n\u001B[1;32m    130\u001B[0m         extra_body\u001B[38;5;241m=\u001B[39mextra_body,\n\u001B[1;32m    131\u001B[0m         timeout\u001B[38;5;241m=\u001B[39mtimeout,\n\u001B[1;32m    132\u001B[0m         post_parser\u001B[38;5;241m=\u001B[39mparser,\n\u001B[1;32m    133\u001B[0m     ),\n\u001B[1;32m    134\u001B[0m     cast_to\u001B[38;5;241m=\u001B[39mCreateEmbeddingResponse,\n\u001B[1;32m    135\u001B[0m )\n",
      "File \u001B[0;32m~/miniconda3/envs/embeddings_env/lib/python3.11/site-packages/openai/_base_client.py:1277\u001B[0m, in \u001B[0;36mSyncAPIClient.post\u001B[0;34m(self, path, cast_to, body, options, files, stream, stream_cls)\u001B[0m\n\u001B[1;32m   1263\u001B[0m \u001B[38;5;28;01mdef\u001B[39;00m \u001B[38;5;21mpost\u001B[39m(\n\u001B[1;32m   1264\u001B[0m     \u001B[38;5;28mself\u001B[39m,\n\u001B[1;32m   1265\u001B[0m     path: \u001B[38;5;28mstr\u001B[39m,\n\u001B[0;32m   (...)\u001B[0m\n\u001B[1;32m   1272\u001B[0m     stream_cls: \u001B[38;5;28mtype\u001B[39m[_StreamT] \u001B[38;5;241m|\u001B[39m \u001B[38;5;28;01mNone\u001B[39;00m \u001B[38;5;241m=\u001B[39m \u001B[38;5;28;01mNone\u001B[39;00m,\n\u001B[1;32m   1273\u001B[0m ) \u001B[38;5;241m-\u001B[39m\u001B[38;5;241m>\u001B[39m ResponseT \u001B[38;5;241m|\u001B[39m _StreamT:\n\u001B[1;32m   1274\u001B[0m     opts \u001B[38;5;241m=\u001B[39m FinalRequestOptions\u001B[38;5;241m.\u001B[39mconstruct(\n\u001B[1;32m   1275\u001B[0m         method\u001B[38;5;241m=\u001B[39m\u001B[38;5;124m\"\u001B[39m\u001B[38;5;124mpost\u001B[39m\u001B[38;5;124m\"\u001B[39m, url\u001B[38;5;241m=\u001B[39mpath, json_data\u001B[38;5;241m=\u001B[39mbody, files\u001B[38;5;241m=\u001B[39mto_httpx_files(files), \u001B[38;5;241m*\u001B[39m\u001B[38;5;241m*\u001B[39moptions\n\u001B[1;32m   1276\u001B[0m     )\n\u001B[0;32m-> 1277\u001B[0m     \u001B[38;5;28;01mreturn\u001B[39;00m cast(ResponseT, \u001B[38;5;28mself\u001B[39m\u001B[38;5;241m.\u001B[39mrequest(cast_to, opts, stream\u001B[38;5;241m=\u001B[39mstream, stream_cls\u001B[38;5;241m=\u001B[39mstream_cls))\n",
      "File \u001B[0;32m~/miniconda3/envs/embeddings_env/lib/python3.11/site-packages/openai/_base_client.py:954\u001B[0m, in \u001B[0;36mSyncAPIClient.request\u001B[0;34m(self, cast_to, options, remaining_retries, stream, stream_cls)\u001B[0m\n\u001B[1;32m    951\u001B[0m \u001B[38;5;28;01melse\u001B[39;00m:\n\u001B[1;32m    952\u001B[0m     retries_taken \u001B[38;5;241m=\u001B[39m \u001B[38;5;241m0\u001B[39m\n\u001B[0;32m--> 954\u001B[0m \u001B[38;5;28;01mreturn\u001B[39;00m \u001B[38;5;28mself\u001B[39m\u001B[38;5;241m.\u001B[39m_request(\n\u001B[1;32m    955\u001B[0m     cast_to\u001B[38;5;241m=\u001B[39mcast_to,\n\u001B[1;32m    956\u001B[0m     options\u001B[38;5;241m=\u001B[39moptions,\n\u001B[1;32m    957\u001B[0m     stream\u001B[38;5;241m=\u001B[39mstream,\n\u001B[1;32m    958\u001B[0m     stream_cls\u001B[38;5;241m=\u001B[39mstream_cls,\n\u001B[1;32m    959\u001B[0m     retries_taken\u001B[38;5;241m=\u001B[39mretries_taken,\n\u001B[1;32m    960\u001B[0m )\n",
      "File \u001B[0;32m~/miniconda3/envs/embeddings_env/lib/python3.11/site-packages/openai/_base_client.py:1060\u001B[0m, in \u001B[0;36mSyncAPIClient._request\u001B[0;34m(self, cast_to, options, retries_taken, stream, stream_cls)\u001B[0m\n\u001B[1;32m   1057\u001B[0m     log\u001B[38;5;241m.\u001B[39mdebug(\u001B[38;5;124m\"\u001B[39m\u001B[38;5;124mRe-raising status error\u001B[39m\u001B[38;5;124m\"\u001B[39m)\n\u001B[1;32m   1058\u001B[0m     \u001B[38;5;28;01mraise\u001B[39;00m \u001B[38;5;28mself\u001B[39m\u001B[38;5;241m.\u001B[39m_make_status_error_from_response(err\u001B[38;5;241m.\u001B[39mresponse) \u001B[38;5;28;01mfrom\u001B[39;00m \u001B[38;5;28;01mNone\u001B[39;00m\n\u001B[0;32m-> 1060\u001B[0m \u001B[38;5;28;01mreturn\u001B[39;00m \u001B[38;5;28mself\u001B[39m\u001B[38;5;241m.\u001B[39m_process_response(\n\u001B[1;32m   1061\u001B[0m     cast_to\u001B[38;5;241m=\u001B[39mcast_to,\n\u001B[1;32m   1062\u001B[0m     options\u001B[38;5;241m=\u001B[39moptions,\n\u001B[1;32m   1063\u001B[0m     response\u001B[38;5;241m=\u001B[39mresponse,\n\u001B[1;32m   1064\u001B[0m     stream\u001B[38;5;241m=\u001B[39mstream,\n\u001B[1;32m   1065\u001B[0m     stream_cls\u001B[38;5;241m=\u001B[39mstream_cls,\n\u001B[1;32m   1066\u001B[0m     retries_taken\u001B[38;5;241m=\u001B[39mretries_taken,\n\u001B[1;32m   1067\u001B[0m )\n",
      "File \u001B[0;32m~/miniconda3/envs/embeddings_env/lib/python3.11/site-packages/openai/_base_client.py:1159\u001B[0m, in \u001B[0;36mSyncAPIClient._process_response\u001B[0;34m(self, cast_to, options, response, stream, stream_cls, retries_taken)\u001B[0m\n\u001B[1;32m   1156\u001B[0m \u001B[38;5;28;01mif\u001B[39;00m \u001B[38;5;28mbool\u001B[39m(response\u001B[38;5;241m.\u001B[39mrequest\u001B[38;5;241m.\u001B[39mheaders\u001B[38;5;241m.\u001B[39mget(RAW_RESPONSE_HEADER)):\n\u001B[1;32m   1157\u001B[0m     \u001B[38;5;28;01mreturn\u001B[39;00m cast(ResponseT, api_response)\n\u001B[0;32m-> 1159\u001B[0m \u001B[38;5;28;01mreturn\u001B[39;00m api_response\u001B[38;5;241m.\u001B[39mparse()\n",
      "File \u001B[0;32m~/miniconda3/envs/embeddings_env/lib/python3.11/site-packages/openai/_response.py:317\u001B[0m, in \u001B[0;36mAPIResponse.parse\u001B[0;34m(self, to)\u001B[0m\n\u001B[1;32m    314\u001B[0m \u001B[38;5;28;01mif\u001B[39;00m \u001B[38;5;129;01mnot\u001B[39;00m \u001B[38;5;28mself\u001B[39m\u001B[38;5;241m.\u001B[39m_is_sse_stream:\n\u001B[1;32m    315\u001B[0m     \u001B[38;5;28mself\u001B[39m\u001B[38;5;241m.\u001B[39mread()\n\u001B[0;32m--> 317\u001B[0m parsed \u001B[38;5;241m=\u001B[39m \u001B[38;5;28mself\u001B[39m\u001B[38;5;241m.\u001B[39m_parse(to\u001B[38;5;241m=\u001B[39mto)\n\u001B[1;32m    318\u001B[0m \u001B[38;5;28;01mif\u001B[39;00m is_given(\u001B[38;5;28mself\u001B[39m\u001B[38;5;241m.\u001B[39m_options\u001B[38;5;241m.\u001B[39mpost_parser):\n\u001B[1;32m    319\u001B[0m     parsed \u001B[38;5;241m=\u001B[39m \u001B[38;5;28mself\u001B[39m\u001B[38;5;241m.\u001B[39m_options\u001B[38;5;241m.\u001B[39mpost_parser(parsed)\n",
      "File \u001B[0;32m~/miniconda3/envs/embeddings_env/lib/python3.11/site-packages/openai/_response.py:261\u001B[0m, in \u001B[0;36mBaseAPIResponse._parse\u001B[0;34m(self, to)\u001B[0m\n\u001B[1;32m    257\u001B[0m     \u001B[38;5;28;01mreturn\u001B[39;00m response\u001B[38;5;241m.\u001B[39mtext  \u001B[38;5;66;03m# type: ignore\u001B[39;00m\n\u001B[1;32m    259\u001B[0m data \u001B[38;5;241m=\u001B[39m response\u001B[38;5;241m.\u001B[39mjson()\n\u001B[0;32m--> 261\u001B[0m \u001B[38;5;28;01mreturn\u001B[39;00m \u001B[38;5;28mself\u001B[39m\u001B[38;5;241m.\u001B[39m_client\u001B[38;5;241m.\u001B[39m_process_response_data(\n\u001B[1;32m    262\u001B[0m     data\u001B[38;5;241m=\u001B[39mdata,\n\u001B[1;32m    263\u001B[0m     cast_to\u001B[38;5;241m=\u001B[39mcast_to,  \u001B[38;5;66;03m# type: ignore\u001B[39;00m\n\u001B[1;32m    264\u001B[0m     response\u001B[38;5;241m=\u001B[39mresponse,\n\u001B[1;32m    265\u001B[0m )\n",
      "File \u001B[0;32m~/miniconda3/envs/embeddings_env/lib/python3.11/site-packages/openai/_base_client.py:590\u001B[0m, in \u001B[0;36mBaseClient._process_response_data\u001B[0;34m(self, data, cast_to, response)\u001B[0m\n\u001B[1;32m    587\u001B[0m     \u001B[38;5;28;01mif\u001B[39;00m \u001B[38;5;28mself\u001B[39m\u001B[38;5;241m.\u001B[39m_strict_response_validation:\n\u001B[1;32m    588\u001B[0m         \u001B[38;5;28;01mreturn\u001B[39;00m cast(ResponseT, validate_type(type_\u001B[38;5;241m=\u001B[39mcast_to, value\u001B[38;5;241m=\u001B[39mdata))\n\u001B[0;32m--> 590\u001B[0m     \u001B[38;5;28;01mreturn\u001B[39;00m cast(ResponseT, construct_type(type_\u001B[38;5;241m=\u001B[39mcast_to, value\u001B[38;5;241m=\u001B[39mdata))\n\u001B[1;32m    591\u001B[0m \u001B[38;5;28;01mexcept\u001B[39;00m pydantic\u001B[38;5;241m.\u001B[39mValidationError \u001B[38;5;28;01mas\u001B[39;00m err:\n\u001B[1;32m    592\u001B[0m     \u001B[38;5;28;01mraise\u001B[39;00m APIResponseValidationError(response\u001B[38;5;241m=\u001B[39mresponse, body\u001B[38;5;241m=\u001B[39mdata) \u001B[38;5;28;01mfrom\u001B[39;00m \u001B[38;5;21;01merr\u001B[39;00m\n",
      "File \u001B[0;32m~/miniconda3/envs/embeddings_env/lib/python3.11/site-packages/openai/_models.py:516\u001B[0m, in \u001B[0;36mconstruct_type\u001B[0;34m(value, type_)\u001B[0m\n\u001B[1;32m    514\u001B[0m     \u001B[38;5;28;01mif\u001B[39;00m is_mapping(value):\n\u001B[1;32m    515\u001B[0m         \u001B[38;5;28;01mif\u001B[39;00m \u001B[38;5;28missubclass\u001B[39m(type_, BaseModel):\n\u001B[0;32m--> 516\u001B[0m             \u001B[38;5;28;01mreturn\u001B[39;00m type_\u001B[38;5;241m.\u001B[39mconstruct(\u001B[38;5;241m*\u001B[39m\u001B[38;5;241m*\u001B[39mvalue)  \u001B[38;5;66;03m# type: ignore[arg-type]\u001B[39;00m\n\u001B[1;32m    518\u001B[0m         \u001B[38;5;28;01mreturn\u001B[39;00m cast(Any, type_)\u001B[38;5;241m.\u001B[39mconstruct(\u001B[38;5;241m*\u001B[39m\u001B[38;5;241m*\u001B[39mvalue)\n\u001B[1;32m    520\u001B[0m \u001B[38;5;28;01mif\u001B[39;00m origin \u001B[38;5;241m==\u001B[39m \u001B[38;5;28mlist\u001B[39m:\n",
      "File \u001B[0;32m~/miniconda3/envs/embeddings_env/lib/python3.11/site-packages/openai/_models.py:229\u001B[0m, in \u001B[0;36mBaseModel.construct\u001B[0;34m(cls, _fields_set, **values)\u001B[0m\n\u001B[1;32m    226\u001B[0m     key \u001B[38;5;241m=\u001B[39m name\n\u001B[1;32m    228\u001B[0m \u001B[38;5;28;01mif\u001B[39;00m key \u001B[38;5;129;01min\u001B[39;00m values:\n\u001B[0;32m--> 229\u001B[0m     fields_values[name] \u001B[38;5;241m=\u001B[39m _construct_field(value\u001B[38;5;241m=\u001B[39mvalues[key], field\u001B[38;5;241m=\u001B[39mfield, key\u001B[38;5;241m=\u001B[39mkey)\n\u001B[1;32m    230\u001B[0m     _fields_set\u001B[38;5;241m.\u001B[39madd(name)\n\u001B[1;32m    231\u001B[0m \u001B[38;5;28;01melse\u001B[39;00m:\n",
      "File \u001B[0;32m~/miniconda3/envs/embeddings_env/lib/python3.11/site-packages/openai/_models.py:391\u001B[0m, in \u001B[0;36m_construct_field\u001B[0;34m(value, field, key)\u001B[0m\n\u001B[1;32m    388\u001B[0m \u001B[38;5;28;01mif\u001B[39;00m type_ \u001B[38;5;129;01mis\u001B[39;00m \u001B[38;5;28;01mNone\u001B[39;00m:\n\u001B[1;32m    389\u001B[0m     \u001B[38;5;28;01mraise\u001B[39;00m \u001B[38;5;167;01mRuntimeError\u001B[39;00m(\u001B[38;5;124mf\u001B[39m\u001B[38;5;124m\"\u001B[39m\u001B[38;5;124mUnexpected field type is None for \u001B[39m\u001B[38;5;132;01m{\u001B[39;00mkey\u001B[38;5;132;01m}\u001B[39;00m\u001B[38;5;124m\"\u001B[39m)\n\u001B[0;32m--> 391\u001B[0m \u001B[38;5;28;01mreturn\u001B[39;00m construct_type(value\u001B[38;5;241m=\u001B[39mvalue, type_\u001B[38;5;241m=\u001B[39mtype_)\n",
      "File \u001B[0;32m~/miniconda3/envs/embeddings_env/lib/python3.11/site-packages/openai/_models.py:525\u001B[0m, in \u001B[0;36mconstruct_type\u001B[0;34m(value, type_)\u001B[0m\n\u001B[1;32m    522\u001B[0m         \u001B[38;5;28;01mreturn\u001B[39;00m value\n\u001B[1;32m    524\u001B[0m     inner_type \u001B[38;5;241m=\u001B[39m args[\u001B[38;5;241m0\u001B[39m]  \u001B[38;5;66;03m# List[inner_type]\u001B[39;00m\n\u001B[0;32m--> 525\u001B[0m     \u001B[38;5;28;01mreturn\u001B[39;00m [construct_type(value\u001B[38;5;241m=\u001B[39mentry, type_\u001B[38;5;241m=\u001B[39minner_type) \u001B[38;5;28;01mfor\u001B[39;00m entry \u001B[38;5;129;01min\u001B[39;00m value]\n\u001B[1;32m    527\u001B[0m \u001B[38;5;28;01mif\u001B[39;00m origin \u001B[38;5;241m==\u001B[39m \u001B[38;5;28mfloat\u001B[39m:\n\u001B[1;32m    528\u001B[0m     \u001B[38;5;28;01mif\u001B[39;00m \u001B[38;5;28misinstance\u001B[39m(value, \u001B[38;5;28mint\u001B[39m):\n",
      "File \u001B[0;32m~/miniconda3/envs/embeddings_env/lib/python3.11/site-packages/openai/_models.py:525\u001B[0m, in \u001B[0;36m<listcomp>\u001B[0;34m(.0)\u001B[0m\n\u001B[1;32m    522\u001B[0m         \u001B[38;5;28;01mreturn\u001B[39;00m value\n\u001B[1;32m    524\u001B[0m     inner_type \u001B[38;5;241m=\u001B[39m args[\u001B[38;5;241m0\u001B[39m]  \u001B[38;5;66;03m# List[inner_type]\u001B[39;00m\n\u001B[0;32m--> 525\u001B[0m     \u001B[38;5;28;01mreturn\u001B[39;00m [construct_type(value\u001B[38;5;241m=\u001B[39mentry, type_\u001B[38;5;241m=\u001B[39minner_type) \u001B[38;5;28;01mfor\u001B[39;00m entry \u001B[38;5;129;01min\u001B[39;00m value]\n\u001B[1;32m    527\u001B[0m \u001B[38;5;28;01mif\u001B[39;00m origin \u001B[38;5;241m==\u001B[39m \u001B[38;5;28mfloat\u001B[39m:\n\u001B[1;32m    528\u001B[0m     \u001B[38;5;28;01mif\u001B[39;00m \u001B[38;5;28misinstance\u001B[39m(value, \u001B[38;5;28mint\u001B[39m):\n",
      "File \u001B[0;32m~/miniconda3/envs/embeddings_env/lib/python3.11/site-packages/openai/_models.py:516\u001B[0m, in \u001B[0;36mconstruct_type\u001B[0;34m(value, type_)\u001B[0m\n\u001B[1;32m    514\u001B[0m     \u001B[38;5;28;01mif\u001B[39;00m is_mapping(value):\n\u001B[1;32m    515\u001B[0m         \u001B[38;5;28;01mif\u001B[39;00m \u001B[38;5;28missubclass\u001B[39m(type_, BaseModel):\n\u001B[0;32m--> 516\u001B[0m             \u001B[38;5;28;01mreturn\u001B[39;00m type_\u001B[38;5;241m.\u001B[39mconstruct(\u001B[38;5;241m*\u001B[39m\u001B[38;5;241m*\u001B[39mvalue)  \u001B[38;5;66;03m# type: ignore[arg-type]\u001B[39;00m\n\u001B[1;32m    518\u001B[0m         \u001B[38;5;28;01mreturn\u001B[39;00m cast(Any, type_)\u001B[38;5;241m.\u001B[39mconstruct(\u001B[38;5;241m*\u001B[39m\u001B[38;5;241m*\u001B[39mvalue)\n\u001B[1;32m    520\u001B[0m \u001B[38;5;28;01mif\u001B[39;00m origin \u001B[38;5;241m==\u001B[39m \u001B[38;5;28mlist\u001B[39m:\n",
      "File \u001B[0;32m~/miniconda3/envs/embeddings_env/lib/python3.11/site-packages/openai/_models.py:229\u001B[0m, in \u001B[0;36mBaseModel.construct\u001B[0;34m(cls, _fields_set, **values)\u001B[0m\n\u001B[1;32m    226\u001B[0m     key \u001B[38;5;241m=\u001B[39m name\n\u001B[1;32m    228\u001B[0m \u001B[38;5;28;01mif\u001B[39;00m key \u001B[38;5;129;01min\u001B[39;00m values:\n\u001B[0;32m--> 229\u001B[0m     fields_values[name] \u001B[38;5;241m=\u001B[39m _construct_field(value\u001B[38;5;241m=\u001B[39mvalues[key], field\u001B[38;5;241m=\u001B[39mfield, key\u001B[38;5;241m=\u001B[39mkey)\n\u001B[1;32m    230\u001B[0m     _fields_set\u001B[38;5;241m.\u001B[39madd(name)\n\u001B[1;32m    231\u001B[0m \u001B[38;5;28;01melse\u001B[39;00m:\n",
      "File \u001B[0;32m~/miniconda3/envs/embeddings_env/lib/python3.11/site-packages/openai/_models.py:391\u001B[0m, in \u001B[0;36m_construct_field\u001B[0;34m(value, field, key)\u001B[0m\n\u001B[1;32m    388\u001B[0m \u001B[38;5;28;01mif\u001B[39;00m type_ \u001B[38;5;129;01mis\u001B[39;00m \u001B[38;5;28;01mNone\u001B[39;00m:\n\u001B[1;32m    389\u001B[0m     \u001B[38;5;28;01mraise\u001B[39;00m \u001B[38;5;167;01mRuntimeError\u001B[39;00m(\u001B[38;5;124mf\u001B[39m\u001B[38;5;124m\"\u001B[39m\u001B[38;5;124mUnexpected field type is None for \u001B[39m\u001B[38;5;132;01m{\u001B[39;00mkey\u001B[38;5;132;01m}\u001B[39;00m\u001B[38;5;124m\"\u001B[39m)\n\u001B[0;32m--> 391\u001B[0m \u001B[38;5;28;01mreturn\u001B[39;00m construct_type(value\u001B[38;5;241m=\u001B[39mvalue, type_\u001B[38;5;241m=\u001B[39mtype_)\n",
      "File \u001B[0;32m~/miniconda3/envs/embeddings_env/lib/python3.11/site-packages/openai/_models.py:525\u001B[0m, in \u001B[0;36mconstruct_type\u001B[0;34m(value, type_)\u001B[0m\n\u001B[1;32m    522\u001B[0m         \u001B[38;5;28;01mreturn\u001B[39;00m value\n\u001B[1;32m    524\u001B[0m     inner_type \u001B[38;5;241m=\u001B[39m args[\u001B[38;5;241m0\u001B[39m]  \u001B[38;5;66;03m# List[inner_type]\u001B[39;00m\n\u001B[0;32m--> 525\u001B[0m     \u001B[38;5;28;01mreturn\u001B[39;00m [construct_type(value\u001B[38;5;241m=\u001B[39mentry, type_\u001B[38;5;241m=\u001B[39minner_type) \u001B[38;5;28;01mfor\u001B[39;00m entry \u001B[38;5;129;01min\u001B[39;00m value]\n\u001B[1;32m    527\u001B[0m \u001B[38;5;28;01mif\u001B[39;00m origin \u001B[38;5;241m==\u001B[39m \u001B[38;5;28mfloat\u001B[39m:\n\u001B[1;32m    528\u001B[0m     \u001B[38;5;28;01mif\u001B[39;00m \u001B[38;5;28misinstance\u001B[39m(value, \u001B[38;5;28mint\u001B[39m):\n",
      "File \u001B[0;32m~/miniconda3/envs/embeddings_env/lib/python3.11/site-packages/openai/_models.py:525\u001B[0m, in \u001B[0;36m<listcomp>\u001B[0;34m(.0)\u001B[0m\n\u001B[1;32m    522\u001B[0m         \u001B[38;5;28;01mreturn\u001B[39;00m value\n\u001B[1;32m    524\u001B[0m     inner_type \u001B[38;5;241m=\u001B[39m args[\u001B[38;5;241m0\u001B[39m]  \u001B[38;5;66;03m# List[inner_type]\u001B[39;00m\n\u001B[0;32m--> 525\u001B[0m     \u001B[38;5;28;01mreturn\u001B[39;00m [construct_type(value\u001B[38;5;241m=\u001B[39mentry, type_\u001B[38;5;241m=\u001B[39minner_type) \u001B[38;5;28;01mfor\u001B[39;00m entry \u001B[38;5;129;01min\u001B[39;00m value]\n\u001B[1;32m    527\u001B[0m \u001B[38;5;28;01mif\u001B[39;00m origin \u001B[38;5;241m==\u001B[39m \u001B[38;5;28mfloat\u001B[39m:\n\u001B[1;32m    528\u001B[0m     \u001B[38;5;28;01mif\u001B[39;00m \u001B[38;5;28misinstance\u001B[39m(value, \u001B[38;5;28mint\u001B[39m):\n",
      "File \u001B[0;32m~/miniconda3/envs/embeddings_env/lib/python3.11/site-packages/openai/_models.py:459\u001B[0m, in \u001B[0;36mconstruct_type\u001B[0;34m(value, type_)\u001B[0m\n\u001B[1;32m    457\u001B[0m     type_ \u001B[38;5;241m=\u001B[39m extract_type_arg(type_, \u001B[38;5;241m0\u001B[39m)\n\u001B[1;32m    458\u001B[0m \u001B[38;5;28;01melse\u001B[39;00m:\n\u001B[0;32m--> 459\u001B[0m     meta \u001B[38;5;241m=\u001B[39m \u001B[38;5;28mtuple\u001B[39m()\n\u001B[1;32m    461\u001B[0m \u001B[38;5;66;03m# we need to use the origin class for any types that are subscripted generics\u001B[39;00m\n\u001B[1;32m    462\u001B[0m \u001B[38;5;66;03m# e.g. Dict[str, object]\u001B[39;00m\n\u001B[1;32m    463\u001B[0m origin \u001B[38;5;241m=\u001B[39m get_origin(type_) \u001B[38;5;129;01mor\u001B[39;00m type_\n",
      "\u001B[0;31mKeyboardInterrupt\u001B[0m: "
     ]
    }
   ],
   "execution_count": 4
  },
  {
   "cell_type": "code",
   "metadata": {
    "ExecuteTime": {
     "end_time": "2024-10-18T01:04:27.958184Z",
     "start_time": "2024-10-18T01:04:27.320021Z"
    }
   },
   "source": [
    "# Best practice\n",
    "from tenacity import retry, wait_random_exponential, stop_after_attempt\n",
    "from openai import OpenAI\n",
    "client = OpenAI()\n",
    "\n",
    "# Retry up to 6 times with exponential backoff, starting at 1 second and maxing out at 20 seconds delay\n",
    "@retry(wait=wait_random_exponential(min=1, max=20), stop=stop_after_attempt(6))\n",
    "def get_embedding(text: str, model=\"text-embedding-3-small\") -> list[float]:\n",
    "    return client.embeddings.create(input=[text], model=model).data[0].embedding\n",
    "\n",
    "embedding = get_embedding(\"Your text goes here\", model=\"text-embedding-3-small\")\n",
    "print(len(embedding))"
   ],
   "outputs": [
    {
     "name": "stdout",
     "output_type": "stream",
     "text": [
      "1536\n"
     ]
    }
   ],
   "execution_count": 4
  },
  {
   "metadata": {},
   "cell_type": "code",
   "outputs": [],
   "execution_count": null,
   "source": ""
  }
 ],
 "metadata": {
  "kernelspec": {
   "display_name": "Python 3.9.9 ('openai')",
   "language": "python",
   "name": "python3"
  },
  "language_info": {
   "codemirror_mode": {
    "name": "ipython",
    "version": 3
   },
   "file_extension": ".py",
   "mimetype": "text/x-python",
   "name": "python",
   "nbconvert_exporter": "python",
   "pygments_lexer": "ipython3",
   "version": "3.9.9"
  },
  "orig_nbformat": 4,
  "vscode": {
   "interpreter": {
    "hash": "365536dcbde60510dc9073d6b991cd35db2d9bac356a11f5b64279a5e6708b97"
   }
  }
 },
 "nbformat": 4,
 "nbformat_minor": 2
}
